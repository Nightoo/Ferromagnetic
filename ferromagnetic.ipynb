{
 "cells": [
  {
   "cell_type": "code",
   "execution_count": 1,
   "id": "64951b82-91e4-4228-84c2-97af829b1229",
   "metadata": {},
   "outputs": [],
   "source": [
    "import numpy as np\n",
    "import matplotlib.pyplot as plt\n",
    "from numba import njit, prange\n",
    "from tqdm import trange"
   ]
  },
  {
   "cell_type": "code",
   "execution_count": 2,
   "id": "521900ff-6d7a-41ac-91e8-2678bc1cb1a0",
   "metadata": {},
   "outputs": [],
   "source": [
    "@njit\n",
    "def spins(iter, Lx, Ly):\n",
    "    '''\n",
    "    Аргументы:\n",
    "        iter (int): текущая итерация\n",
    "        Lx (int): размер решетки по Ох\n",
    "        Ly (int): размер решетки по Оу\n",
    "\n",
    "    Возвращает res (np.array) - уникальный для каждой итерации массив из чисел +1 или -1 (спины) размера Lx * Ly\n",
    "    '''\n",
    "    res = np.zeros((Lx, Ly), dtype=np.int8)\n",
    "    for i in range(Lx):                    #представлем число iter  в двоичной СС и записываем по порядку в массив, заменяя 0 на -1\n",
    "        for j in range(Ly):                #таким образом переберем все возможные комбинации спинов\n",
    "            res[i, j] = 2 * (iter & 1) - 1 #оператор \"побитовый и\" проверяет последнюю цифру числа в двоичной СС, 2х-1 переводит 1 -> 1, 0 -> -1\n",
    "            iter >>= 1                     #сдвигаем побитово вправо, чтобы обновить последнюю цифру числа в двоичной СС\n",
    "    return res"
   ]
  },
  {
   "cell_type": "code",
   "execution_count": 3,
   "id": "eb755fc9-ca12-4604-9ff3-3a6f8de03acf",
   "metadata": {},
   "outputs": [],
   "source": [
    "@njit\n",
    "def energy(sigma, J=1):\n",
    "    '''\n",
    "    Аргументы:\n",
    "        sigma (np.array): массив со спинами\n",
    "        J (float): константа межмолекулярного взаимодействия\n",
    "\n",
    "    Возвращает E (float) - энергия системы для набора спинов sigma; вычисляется по формуле E = -SUM (Sij * Si+1j + Sij * Sij+1), где Sij - спин\n",
    "    '''\n",
    "    E = 0\n",
    "    for i in range(-1, len(sigma)-1):\n",
    "        for j in range(-1, len(sigma[0])-1): #начинаем с -1, чтобы учесть взаимодействие граничных молекул (периодические границы)\n",
    "            E -= (sigma[i, j] * sigma[i + 1, j] + sigma[i, j] * sigma[i, j + 1]) * J\n",
    "    return E"
   ]
  },
  {
   "cell_type": "code",
   "execution_count": 4,
   "id": "1704b355-3c43-4b20-90f0-f5aa97e00bd0",
   "metadata": {},
   "outputs": [],
   "source": [
    "@njit(parallel=True)\n",
    "def average_energy(current_Lx, current_kT, Ly, J):\n",
    "    '''\n",
    "    Аргументы:\n",
    "        current_Lx (int): текущий размер по Ох\n",
    "        current_kT (int): текущая температура\n",
    "        Ly (int): размер решетки по Оу\n",
    "        J (float): константа межмолекулярного взаимодействия\n",
    "\n",
    "    Возвращает res (float) - среднюю энергию системы по формуле S = (1/Z)*SUM(E(s)*e^(-E(s) / kT)), где s - набор спинов\n",
    "    '''\n",
    "    N = current_Lx * Ly #всего молекул\n",
    "    Z = 0 #статистическая сумма\n",
    "    S = 0 #средняя энергия системы\n",
    "    for iter in prange(2 ** N):\n",
    "        sigma = spins(iter, current_Lx, Ly) #текущий набор спинов\n",
    "        E = energy(sigma, J) #энергия\n",
    "        e = np.exp(-E / current_kT) #вероятность\n",
    "        S += E * e\n",
    "        Z += e\n",
    "    S /= Z\n",
    "    res = S / N\n",
    "    return res"
   ]
  },
  {
   "cell_type": "code",
   "execution_count": 5,
   "id": "41eeaa84-8513-4c4e-89d2-2b510cce2f80",
   "metadata": {},
   "outputs": [],
   "source": [
    "def model(Lx, Ly, kT, J):\n",
    "    '''\n",
    "    Аргументы:\n",
    "        Lx (np.array): набор размеров решетки по Ох\n",
    "        Ly (int): размер решетки по Оу\n",
    "        kT (np.array): набор температур\n",
    "        J (float): константа межмолекулярного взаимодействия\n",
    "\n",
    "    Сохраняет массив средних энергий для наборов размеров решетки и температур в файл 'energy.npy'\n",
    "    '''\n",
    "    energy = np.zeros((len(Lx), len(kT)))\n",
    "    for L in range(len(Lx)):\n",
    "        print('Lx =', Lx[L])\n",
    "        for T in trange(len(kT)): #перебираем комбинации размеров и температур\n",
    "            current_Lx = Lx[L]\n",
    "            current_kT = kT[T]\n",
    "            energy[L, T] = average_energy(current_Lx, current_kT, Ly, J)\n",
    "    np.save('energy.npy', energy)"
   ]
  },
  {
   "cell_type": "code",
   "execution_count": 6,
   "id": "98c57392-0216-4e90-9194-373afcd0bd00",
   "metadata": {},
   "outputs": [],
   "source": [
    "def image(Lx, kT, energy_array):\n",
    "    '''\n",
    "    Аргументы:\n",
    "        Lx (np.array): набор размеров решетки по Ох\n",
    "        kT (np.array): набор температур\n",
    "        energy_array (np.array): массив средних температур\n",
    "\n",
    "    Строит цветовую карту, где по оси Ох - размеры решетки по Ох, по Оу - температуры, цвет обозначает среднюю энергию\n",
    "    '''\n",
    "    plt.figure(figsize=(8, 8))\n",
    "    plt.pcolormesh(Lx, kT, energy_array.T, cmap='magma')\n",
    "    plt.colorbar()\n",
    "    plt.xlabel('Lx')\n",
    "    plt.ylabel('kT')\n",
    "    plt.xticks(Lx)\n",
    "    plt.yticks(kT)\n",
    "    plt.show()"
   ]
  },
  {
   "cell_type": "code",
   "execution_count": 7,
   "id": "3ae59029-5cb8-4d1b-bad8-299e6c057a99",
   "metadata": {},
   "outputs": [],
   "source": [
    "Lx = np.arange(2, 9, 1)\n",
    "Ly = 4\n",
    "kT = np.arange(1.0, 5.1, 0.1)\n",
    "J = 1"
   ]
  },
  {
   "cell_type": "code",
   "execution_count": 8,
   "id": "9885aff6-407f-49e8-ba6a-bb74f92c0c58",
   "metadata": {},
   "outputs": [
    {
     "name": "stdout",
     "output_type": "stream",
     "text": [
      "Lx = 2\n"
     ]
    },
    {
     "name": "stderr",
     "output_type": "stream",
     "text": [
      "100%|█████████████████████████████████████████████████████████████████████████████████████████████████████████████████████████████████████████████████████| 41/41 [00:02<00:00, 18.87it/s]\n"
     ]
    },
    {
     "name": "stdout",
     "output_type": "stream",
     "text": [
      "Lx = 3\n"
     ]
    },
    {
     "name": "stderr",
     "output_type": "stream",
     "text": [
      "100%|███████████████████████████████████████████████████████████████████████████████████████████████████████████████████████████████████████████████████| 41/41 [00:00<00:00, 4102.25it/s]\n"
     ]
    },
    {
     "name": "stdout",
     "output_type": "stream",
     "text": [
      "Lx = 4\n"
     ]
    },
    {
     "name": "stderr",
     "output_type": "stream",
     "text": [
      "100%|████████████████████████████████████████████████████████████████████████████████████████████████████████████████████████████████████████████████████| 41/41 [00:00<00:00, 471.31it/s]\n"
     ]
    },
    {
     "name": "stdout",
     "output_type": "stream",
     "text": [
      "Lx = 5\n"
     ]
    },
    {
     "name": "stderr",
     "output_type": "stream",
     "text": [
      "100%|█████████████████████████████████████████████████████████████████████████████████████████████████████████████████████████████████████████████████████| 41/41 [00:00<00:00, 57.53it/s]\n"
     ]
    },
    {
     "name": "stdout",
     "output_type": "stream",
     "text": [
      "Lx = 6\n"
     ]
    },
    {
     "name": "stderr",
     "output_type": "stream",
     "text": [
      "100%|█████████████████████████████████████████████████████████████████████████████████████████████████████████████████████████████████████████████████████| 41/41 [00:11<00:00,  3.47it/s]\n"
     ]
    },
    {
     "name": "stdout",
     "output_type": "stream",
     "text": [
      "Lx = 7\n"
     ]
    },
    {
     "name": "stderr",
     "output_type": "stream",
     "text": [
      "100%|█████████████████████████████████████████████████████████████████████████████████████████████████████████████████████████████████████████████████████| 41/41 [03:25<00:00,  5.01s/it]\n"
     ]
    },
    {
     "name": "stdout",
     "output_type": "stream",
     "text": [
      "Lx = 8\n"
     ]
    },
    {
     "name": "stderr",
     "output_type": "stream",
     "text": [
      "100%|█████████████████████████████████████████████████████████████████████████████████████████████████████████████████████████████████████████████████████| 41/41 [59:34<00:00, 87.18s/it]\n"
     ]
    }
   ],
   "source": [
    "model(Lx, Ly, kT, J) #для значений Lx <=5 расчеты занимают меньше секунды "
   ]
  },
  {
   "cell_type": "code",
   "execution_count": 9,
   "id": "dffea86b-9819-4ed5-8b79-44a69f0741ef",
   "metadata": {},
   "outputs": [
    {
     "data": {
      "image/png": "[encoded data removed]",
      "text/plain": [
       "<Figure size 800x800 with 2 Axes>"
      ]
     },
     "metadata": {},
     "output_type": "display_data"
    }
   ],
   "source": [
    "energy_array = np.load('energy.npy')\n",
    "image(Lx, kT, energy_array)"
   ]
  },
  {
   "cell_type": "code",
   "execution_count": null,
   "id": "b8dc4d58-797c-42fd-ad82-e02a8e30d86c",
   "metadata": {},
   "outputs": [],
   "source": []
  }
 ],
 "metadata": {
  "kernelspec": {
   "display_name": "Python 3 (ipykernel)",
   "language": "python",
   "name": "python3"
  },
  "language_info": {
   "codemirror_mode": {
    "name": "ipython",
    "version": 3
   },
   "file_extension": ".py",
   "mimetype": "text/x-python",
   "name": "python",
   "nbconvert_exporter": "python",
   "pygments_lexer": "ipython3",
   "version": "3.9.6"
  }
 },
 "nbformat": 4,
 "nbformat_minor": 5
}
